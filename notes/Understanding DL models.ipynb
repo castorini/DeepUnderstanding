{
 "cells": [
  {
   "cell_type": "markdown",
   "metadata": {},
   "source": [
    "### Shallow Understanding\n",
    "\n",
    "__Model:__\n",
    "We will begin with the Kim CNN model, which is one of the simplest CNN models used for sentence classsification\n",
    "\n",
    "Link to the paper: http://www.aclweb.org/anthology/D14-1181\n",
    "Link to the code: https://github.com/castorini/Castor/tree/master/kim_cnn\n",
    "\n",
    "__Dataset:__\n",
    "SST-1 is the Stanford Sentiment Treebank has the dev/train/test splits with fine-grained labels: very positive, postive, neutral, negative, and very negative.\n",
    "\n",
    "__How does the data look like?__\n",
    "\n",
    "```2 in his first stab at the form , jacquot takes a slightly anarchic approach that works only sporadically .\n",
    "1 one long string of cliches .\n",
    "1 if you 've ever entertained the notion of doing what the title of this film implies , what sex with strangers actually shows may put you off the idea forever .\n",
    "0 k-19 exploits our substantial collective fear of nuclear holocaust to generate cheap hollywood tension .\n",
    "1 it 's played in the most straight-faced fashion , with little humor to lighten things up .\n",
    "3 there is a fabric of complex ideas here , and feelings that profoundly deepen them .\n",
    "```\n",
    "\n",
    "### Useful Links\n",
    "1. http://www.wildml.com/2015/11/understanding-convolutional-neural-networks-for-nlp/\n",
    "\n",
    "### Initial Experiments:\n",
    "- do feature maps correspond any of the words in the input? cosine similarity etc.\n",
    "- do the words form any clusters?\n",
    "\n",
    "### Further Experiments\n",
    "- try different #filters, #window_size, narrow vs wide windows\n"
   ]
  },
  {
   "cell_type": "code",
   "execution_count": null,
   "metadata": {
    "collapsed": true
   },
   "outputs": [],
   "source": []
  }
 ],
 "metadata": {
  "kernelspec": {
   "display_name": "Python 3",
   "language": "python",
   "name": "python3"
  },
  "language_info": {
   "codemirror_mode": {
    "name": "ipython",
    "version": 3
   },
   "file_extension": ".py",
   "mimetype": "text/x-python",
   "name": "python",
   "nbconvert_exporter": "python",
   "pygments_lexer": "ipython3",
   "version": "3.6.0"
  }
 },
 "nbformat": 4,
 "nbformat_minor": 2
}
